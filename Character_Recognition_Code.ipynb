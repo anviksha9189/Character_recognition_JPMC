{
  "nbformat": 4,
  "nbformat_minor": 0,
  "metadata": {
    "colab": {
      "provenance": []
    },
    "kernelspec": {
      "name": "python3",
      "display_name": "Python 3"
    },
    "language_info": {
      "name": "python"
    }
  },
  "cells": [
    {
      "cell_type": "code",
      "execution_count": null,
      "metadata": {
        "id": "628bLQJmMrC-",
        "colab": {
          "base_uri": "https://localhost:8080/"
        },
        "outputId": "91f30bb9-c41d-4402-ffc5-578e2859c062"
      },
      "outputs": [
        {
          "output_type": "stream",
          "name": "stdout",
          "text": [
            "Drive already mounted at /content/drive; to attempt to forcibly remount, call drive.mount(\"/content/drive\", force_remount=True).\n"
          ]
        }
      ],
      "source": [
        "from google.colab import drive\n",
        "drive.mount('/content/drive')"
      ]
    },
    {
      "cell_type": "markdown",
      "source": [
        "# Preprocessing"
      ],
      "metadata": {
        "id": "wUi4cjM9MvpM"
      }
    },
    {
      "cell_type": "code",
      "source": [
        "import os\n",
        "import skimage.io as io\n",
        "import numpy as np\n",
        "from skimage.filters import threshold_otsu\n",
        "from skimage.morphology import erosion, dilation\n",
        "import cv2"
      ],
      "metadata": {
        "id": "cru0jY1YMyWD"
      },
      "execution_count": null,
      "outputs": []
    },
    {
      "cell_type": "code",
      "source": [
        "# Path to the folders containing the images\n",
        "folder_paths = [\n",
        "    '/content/drive/MyDrive/JPMC_casestudy/samples1-200/',\n",
        "    '/content/drive/MyDrive/JPMC_casestudy/samples201-400/',\n",
        "    '/content/drive/MyDrive/JPMC_casestudy/samples401-600/',\n",
        "    '/content/drive/MyDrive/JPMC_casestudy/samples601-800/',\n",
        "    '/content/drive/MyDrive/JPMC_casestudy/samples801-1000/'\n",
        "]"
      ],
      "metadata": {
        "id": "-W1JbK8fM7Iz"
      },
      "execution_count": null,
      "outputs": []
    },
    {
      "cell_type": "code",
      "source": [
        "# Preprocessing steps (Iterate over the folders)\n",
        "\n",
        "for folder_path in folder_paths:\n",
        "    output_folder = '/content/drive/MyDrive/JPMC_casestudy/processed_images/'\n",
        "\n",
        "    os.makedirs(output_folder, exist_ok=True)\n",
        "\n",
        "    for filename in os.listdir(folder_path):\n",
        "        if filename.endswith('.png'):\n",
        "\n",
        "            image_path = os.path.join(folder_path, filename)\n",
        "            image = cv2.imread(image_path, 0)\n",
        "\n",
        "            # Applying non-local means denoising to the grayscale image\n",
        "            image_denoised = cv2.fastNlMeansDenoising(image, None, 15, 25, 30)\n",
        "\n",
        "            # Step 1 (erosion)\n",
        "            img_eroded = erosion(image_denoised)\n",
        "\n",
        "            # Step 2 (dilation)\n",
        "            kernel = np.ones((2, 2), np.uint8)\n",
        "            img_dilated = dilation(img_eroded, kernel)\n",
        "\n",
        "            # Step 3 (dilation)\n",
        "            kernel = np.ones((4, 1), np.uint8)\n",
        "            img_dilated_2 = dilation(img_dilated, kernel)\n",
        "\n",
        "            # Normalizing the image values between 0 and 1\n",
        "            img_normalized = img_dilated_2 / 255.0\n",
        "\n",
        "            # Step 4 (threshold)\n",
        "            threshold = threshold_otsu(img_normalized)\n",
        "            img_binary = (img_normalized > threshold).astype(np.uint8) * 255\n",
        "\n",
        "            # Saving the processed image in the output folder\n",
        "            output_path = os.path.join(output_folder, filename)\n",
        "            cv2.imwrite(output_path, img_binary)"
      ],
      "metadata": {
        "id": "fAbuZY90b_66"
      },
      "execution_count": null,
      "outputs": []
    },
    {
      "cell_type": "code",
      "source": [
        "import os\n",
        "from PIL import Image\n",
        "\n",
        "def split_images_in_folder(folder_path, rows, columns, delete_original=False, save_folder=None):\n",
        "    image_files = [f for f in os.listdir(folder_path) if os.path.isfile(os.path.join(folder_path, f))]\n",
        "\n",
        "\n",
        "    for image_file in image_files:\n",
        "\n",
        "        image_path = os.path.join(folder_path, image_file)\n",
        "        image = Image.open(image_path)\n",
        "\n",
        "        # width and height of the image\n",
        "        width, height = image.size\n",
        "\n",
        "        # Calculating the width and height of each cropped image\n",
        "        crop_width = width // columns\n",
        "        crop_height = height // rows\n",
        "\n",
        "        if save_folder and not os.path.exists(save_folder):\n",
        "            os.makedirs(save_folder)\n",
        "\n",
        "\n",
        "        for row in range(rows):\n",
        "            for col in range(columns):\n",
        "                # Calculating the coordinates for cropping the image\n",
        "                left = col * crop_width\n",
        "                upper = row * crop_height\n",
        "                right = left + crop_width\n",
        "                lower = upper + crop_height\n",
        "\n",
        "                # Cropping the image\n",
        "                cropped_image = image.crop((left, upper, right, lower))\n",
        "\n",
        "                if save_folder:\n",
        "                  cropped_image.save(os.path.join(save_folder, f\"{image_file[col]}_{col}_{image_file}.png\"))\n",
        "                else:\n",
        "                   cropped_image.save(f\"{image_file[col]}_{col}_{image_file}.png\")\n",
        "\n",
        "        # Delete the original image\n",
        "        if delete_original:\n",
        "            os.remove(image_path)\n",
        "\n",
        "\n",
        "folder_path = \"/content/drive/MyDrive/JPMC_casestudy/processed_images\"\n",
        "save_folder = \"/content/drive/MyDrive/JPMC_casestudy/cropped_image\"\n",
        "split_images_in_folder(folder_path, 1, 5, False, save_folder)"
      ],
      "metadata": {
        "id": "NyR9otpPNP_U"
      },
      "execution_count": null,
      "outputs": []
    },
    {
      "cell_type": "markdown",
      "source": [
        "# Random Forest"
      ],
      "metadata": {
        "id": "gfklR-UaNVP8"
      }
    },
    {
      "cell_type": "code",
      "source": [
        "from skimage.transform import resize\n",
        "from skimage.feature import hog\n",
        "from sklearn.ensemble import RandomForestClassifier\n",
        "from sklearn.model_selection import train_test_split\n",
        "from sklearn.metrics import accuracy_score"
      ],
      "metadata": {
        "id": "I9hIDcYXNQB9"
      },
      "execution_count": null,
      "outputs": []
    },
    {
      "cell_type": "code",
      "source": [
        "folder_path = '/content/drive/MyDrive/JPMC_casestudy/cropped_image'\n",
        "\n",
        "images = []\n",
        "labels = []\n",
        "\n",
        "for filename in os.listdir(folder_path):\n",
        "    if filename.endswith('.png'):\n",
        "\n",
        "        image_path = os.path.join(folder_path, filename)\n",
        "        image = io.imread(image_path,)\n",
        "\n",
        "        # Flattening the image\n",
        "        image_flattened = image.flatten()\n",
        "\n",
        "        # Reshape the flattened image to the original shape\n",
        "        image_reshaped = image_flattened.reshape(image.shape)\n",
        "\n",
        "        # Extracting HOG features\n",
        "        features = hog(image_reshaped, orientations=12, pixels_per_cell=(4, 4), cells_per_block=(1, 1))\n",
        "\n",
        "        # Getting the label from the filename (label is the first character of the filename)\n",
        "        label = filename[0]\n",
        "\n",
        "        images.append(features)\n",
        "        labels.append(label)"
      ],
      "metadata": {
        "id": "g6Ey7lwTNZ1Q"
      },
      "execution_count": null,
      "outputs": []
    },
    {
      "cell_type": "code",
      "source": [
        "# Converting the lists to arrays\n",
        "X_RF = np.array(images)\n",
        "y_RF = np.array(labels)\n",
        "\n",
        "# Splitting the data into training and validation sets\n",
        "X_train_RF, X_val_RF, y_train_RF, y_val_RF = train_test_split(X_RF, y_RF, test_size=0.2, random_state=100)"
      ],
      "metadata": {
        "id": "nZvMaZ5k5rkl"
      },
      "execution_count": null,
      "outputs": []
    },
    {
      "cell_type": "code",
      "source": [
        "# Training a Random Forest classifier\n",
        "classifier = RandomForestClassifier(n_estimators=200, random_state=100)\n",
        "classifier.fit(X_train_RF, y_train_RF)\n",
        "\n",
        "# Predicting the labels for the validation set\n",
        "y_pred_RF = classifier.predict(X_val_RF)\n",
        "\n",
        "# Calculating the accuracy of the classifier\n",
        "accuracy = accuracy_score(y_val_RF, y_pred_RF)\n",
        "print(\"Validation Accuracy_RF:\", accuracy)"
      ],
      "metadata": {
        "id": "Bi4-9mTGNZ3z",
        "colab": {
          "base_uri": "https://localhost:8080/"
        },
        "outputId": "1589da5a-a962-476a-a57e-9535c792561c"
      },
      "execution_count": null,
      "outputs": [
        {
          "output_type": "stream",
          "name": "stdout",
          "text": [
            "Validation Accuracy_RF: 0.639\n"
          ]
        }
      ]
    },
    {
      "cell_type": "markdown",
      "source": [
        "# SVM"
      ],
      "metadata": {
        "id": "ERjrIcyENezx"
      }
    },
    {
      "cell_type": "code",
      "source": [
        "# Converting the lists to arrays\n",
        "X_SVM = np.array(images)\n",
        "y_SVM = np.array(labels)\n",
        "\n",
        "# Splitting the data into training and validation sets\n",
        "X_train_SVM, X_val_SVM, y_train_SVM, y_val_SVM = train_test_split(X_SVM, y_SVM, test_size=0.2, random_state=100)"
      ],
      "metadata": {
        "id": "wEz7BkMUCYnv"
      },
      "execution_count": null,
      "outputs": []
    },
    {
      "cell_type": "code",
      "source": [
        "from sklearn.svm import SVC\n",
        "\n",
        "# Training an SVM classifier\n",
        "classifier = SVC(kernel='linear', random_state=100)\n",
        "\n",
        "classifier.fit(X_train_SVM, y_train_SVM)\n",
        "\n",
        "# Predicting the labels for the validation set\n",
        "y_pred_SVM = classifier.predict(X_val_SVM)\n",
        "\n",
        "# Calculating the accuracy of the classifier\n",
        "accuracy = accuracy_score(y_val_SVM, y_pred_SVM)\n",
        "print(\"Validation Accuracy_SVC:\", accuracy)"
      ],
      "metadata": {
        "id": "yLfUpDKHNjhS",
        "colab": {
          "base_uri": "https://localhost:8080/"
        },
        "outputId": "35b9b5c0-6362-450f-f92c-dbea3bbf414b"
      },
      "execution_count": null,
      "outputs": [
        {
          "output_type": "stream",
          "name": "stdout",
          "text": [
            "Validation Accuracy_SVC: 0.586\n"
          ]
        }
      ]
    },
    {
      "cell_type": "markdown",
      "source": [
        "# Logistic Regression"
      ],
      "metadata": {
        "id": "LgwMuQxP1pMC"
      }
    },
    {
      "cell_type": "code",
      "source": [
        "# Converting the lists to arrays\n",
        "X_LR = np.array(images)\n",
        "y_LR = np.array(labels)\n",
        "\n",
        "# Splitting the data into training and validation sets\n",
        "X_train_LR, X_val_LR, y_train_LR, y_val_LR = train_test_split(X_LR, y_LR, test_size=0.2, random_state=100)"
      ],
      "metadata": {
        "id": "Fu57vldQKv7E"
      },
      "execution_count": null,
      "outputs": []
    },
    {
      "cell_type": "code",
      "source": [
        "from sklearn.linear_model import LogisticRegression\n",
        "\n",
        "# Training a Logistic Regression classifier\n",
        "classifier = LogisticRegression(random_state=100, max_iter=1000)\n",
        "\n",
        "classifier.fit(X_train_LR, y_train_LR)\n",
        "\n",
        "# Predicting the labels for the validation set\n",
        "y_pred_LR = classifier.predict(X_val_LR)\n",
        "\n",
        "# Calculating the accuracy of the classifier\n",
        "accuracy = accuracy_score(y_val_LR, y_pred_LR)\n",
        "print(\"Validation Accuracy_LR:\", accuracy)"
      ],
      "metadata": {
        "colab": {
          "base_uri": "https://localhost:8080/"
        },
        "id": "HDsQdemH1onM",
        "outputId": "8e36174c-f892-46bd-99e1-785e33ea8751"
      },
      "execution_count": null,
      "outputs": [
        {
          "output_type": "stream",
          "name": "stdout",
          "text": [
            "Validation Accuracy_LR: 0.563\n"
          ]
        }
      ]
    },
    {
      "cell_type": "markdown",
      "source": [
        "#Q1. Which of the above classifiers yield the best accuracy on the validation set? Do you think accuracy is the best metric to compare the algorithms, if not - which other metric could be used?"
      ],
      "metadata": {
        "id": "KJUlGAQh3_Ug"
      }
    },
    {
      "cell_type": "markdown",
      "source": [
        "We are getting the Validation Accuracy: 0.659 for Random Forest.\n",
        "\n",
        "While accuracy is a commonly used metric to evaluate classification models, it may not always be the best metric, especially in cases where the classes are imbalanced or have different levels of importance. In such scenarios, other metrics like precision, recall, and F1-score can provide additional insights.\n",
        "\n",
        "In the given classification report, we can observe that the precision, recall, and F1-score values vary across different classes. This indicates that the performance of the classifier is not consistent for all classes. Therefore, solely relying on accuracy may not be sufficient to compare the algorithms.\n",
        "\n",
        "To choose a different metric, since we want to minimize false negatives, recall might be more relevant."
      ],
      "metadata": {
        "id": "I1dE6Wc9f4cO"
      }
    },
    {
      "cell_type": "markdown",
      "source": [
        "#Q2. Tweak the hyperparameters of the classifier selected in Q1 and try to improve the accuracy. What hyperparameters did you change, why do you think it worked?"
      ],
      "metadata": {
        "id": "kcUvOU5G3ONj"
      }
    },
    {
      "cell_type": "markdown",
      "source": [
        "# **RF Model**\n",
        "\n",
        "**earlier** --> classifier = RandomForestClassifier(n_estimators=100, max_depth=10, min_samples_split=5, random_state=100)\n",
        "\n",
        "**updated** --> classifier = RandomForestClassifier(n_estimators=300, max_depth=15, min_samples_split=10, random_state=100)\n",
        "\n",
        "Validation Accuracy changed from 0.597 to 0.659\n",
        "\n",
        "# **SVM Model**\n",
        "\n",
        "**earlier** --> classifier = SVC(kernel='linear', random_state=100)\n",
        "\n",
        "\n",
        "**updated** --> classifier = SVC(kernel='rbf', C=1.0, gamma='scale', random_state=100)\n",
        "\n",
        "Validation Accuracy changed from 0.586 to 0.65\n",
        "\n",
        "# **LR Model**\n",
        "\n",
        "**earlier** --> classifier = LogisticRegression(random_state=100, max_iter=1000)\n",
        "\n",
        "**updated** --> classifier = LogisticRegression(C=1.0, penalty='l2', solver='liblinear', random_state=100, max_iter=1000)\n",
        "\n",
        "Validation Accuracy changed from 0.563 to 0.553"
      ],
      "metadata": {
        "id": "lcpsbZBd3OQT"
      }
    },
    {
      "cell_type": "markdown",
      "source": [
        "#Q3. Find Precision, Recall and F1 score in all cases."
      ],
      "metadata": {
        "id": "3GS2lBikMql0"
      }
    },
    {
      "cell_type": "code",
      "source": [
        "# Calculating the classification report\n",
        "report = classification_report(y_val_RF, y_pred_RF, digits=3)\n",
        "\n",
        "print(\"Classification Report_RF:\")\n",
        "print(report)"
      ],
      "metadata": {
        "colab": {
          "base_uri": "https://localhost:8080/"
        },
        "id": "9TJC9HFlNapp",
        "outputId": "47d8b9f5-0e36-4eca-c315-b0545bf584f0"
      },
      "execution_count": null,
      "outputs": [
        {
          "output_type": "stream",
          "name": "stdout",
          "text": [
            "Classification Report_RF:\n",
            "              precision    recall  f1-score   support\n",
            "\n",
            "           a      0.851     0.769     0.808        52\n",
            "           b      0.520     0.788     0.627        33\n",
            "           c      0.605     0.622     0.613        37\n",
            "           d      0.643     0.643     0.643        28\n",
            "           e      0.659     0.674     0.667        43\n",
            "           f      0.600     0.525     0.560        40\n",
            "           g      0.833     0.690     0.755        29\n",
            "           h      0.667     0.343     0.453        35\n",
            "           i      0.559     0.594     0.576        32\n",
            "           j      0.527     0.929     0.672        42\n",
            "           k      0.643     0.562     0.600        32\n",
            "           l      0.447     0.553     0.494        38\n",
            "           m      0.632     0.500     0.558        48\n",
            "           n      0.600     0.628     0.614        43\n",
            "           o      0.744     0.707     0.725        41\n",
            "           p      0.761     0.814     0.787        43\n",
            "           q      0.742     0.767     0.754        30\n",
            "           r      0.692     0.500     0.581        36\n",
            "           s      0.804     0.820     0.812        50\n",
            "           t      0.679     0.463     0.551        41\n",
            "           u      0.917     0.550     0.687        40\n",
            "           v      0.759     0.564     0.647        39\n",
            "           w      0.585     0.756     0.660        41\n",
            "           x      0.515     0.436     0.472        39\n",
            "           y      0.588     0.625     0.606        32\n",
            "           z      0.446     0.694     0.543        36\n",
            "\n",
            "    accuracy                          0.639      1000\n",
            "   macro avg      0.654     0.635     0.633      1000\n",
            "weighted avg      0.659     0.639     0.637      1000\n",
            "\n"
          ]
        }
      ]
    },
    {
      "cell_type": "code",
      "source": [
        "# Calculating the classification report\n",
        "report = classification_report(y_val_SVM, y_pred_SVM, digits=3)\n",
        "\n",
        "print(\"Classification Report_SVM:\")\n",
        "print(report)"
      ],
      "metadata": {
        "colab": {
          "base_uri": "https://localhost:8080/"
        },
        "id": "F7h2g0igOEAW",
        "outputId": "6d16e547-1ad3-402f-8184-c1b5466ea430"
      },
      "execution_count": null,
      "outputs": [
        {
          "output_type": "stream",
          "name": "stdout",
          "text": [
            "Classification Report_SVM:\n",
            "              precision    recall  f1-score   support\n",
            "\n",
            "           a      0.850     0.654     0.739        52\n",
            "           b      0.537     0.667     0.595        33\n",
            "           c      0.469     0.622     0.535        37\n",
            "           d      0.487     0.679     0.567        28\n",
            "           e      0.683     0.651     0.667        43\n",
            "           f      0.467     0.525     0.494        40\n",
            "           g      0.550     0.759     0.638        29\n",
            "           h      0.545     0.514     0.529        35\n",
            "           i      0.519     0.438     0.475        32\n",
            "           j      0.644     0.690     0.667        42\n",
            "           k      0.487     0.594     0.535        32\n",
            "           l      0.477     0.553     0.512        38\n",
            "           m      0.429     0.375     0.400        48\n",
            "           n      0.472     0.581     0.521        43\n",
            "           o      0.600     0.512     0.553        41\n",
            "           p      0.789     0.698     0.741        43\n",
            "           q      0.590     0.767     0.667        30\n",
            "           r      0.633     0.528     0.576        36\n",
            "           s      0.905     0.760     0.826        50\n",
            "           t      0.464     0.317     0.377        41\n",
            "           u      0.750     0.600     0.667        40\n",
            "           v      0.556     0.513     0.533        39\n",
            "           w      0.535     0.561     0.548        41\n",
            "           x      0.516     0.410     0.457        39\n",
            "           y      0.618     0.656     0.636        32\n",
            "           z      0.735     0.694     0.714        36\n",
            "\n",
            "    accuracy                          0.586      1000\n",
            "   macro avg      0.589     0.589     0.583      1000\n",
            "weighted avg      0.598     0.586     0.586      1000\n",
            "\n"
          ]
        }
      ]
    },
    {
      "cell_type": "code",
      "source": [
        "# Calculating the classification report\n",
        "report = classification_report(y_val_LR, y_pred_LR, digits=3)\n",
        "\n",
        "print(\"Classification Report_LR:\")\n",
        "print(report)"
      ],
      "metadata": {
        "colab": {
          "base_uri": "https://localhost:8080/"
        },
        "id": "5pmAi482NUxa",
        "outputId": "d0db6a1c-8759-4c7f-984b-8b607efa6cfe"
      },
      "execution_count": null,
      "outputs": [
        {
          "output_type": "stream",
          "name": "stdout",
          "text": [
            "Classification Report_LR:\n",
            "              precision    recall  f1-score   support\n",
            "\n",
            "           a      0.795     0.596     0.681        52\n",
            "           b      0.600     0.636     0.618        33\n",
            "           c      0.486     0.486     0.486        37\n",
            "           d      0.500     0.500     0.500        28\n",
            "           e      0.658     0.581     0.617        43\n",
            "           f      0.368     0.350     0.359        40\n",
            "           g      0.750     0.724     0.737        29\n",
            "           h      0.472     0.486     0.479        35\n",
            "           i      0.714     0.469     0.566        32\n",
            "           j      0.732     0.714     0.723        42\n",
            "           k      0.568     0.656     0.609        32\n",
            "           l      0.478     0.579     0.524        38\n",
            "           m      0.418     0.479     0.447        48\n",
            "           n      0.559     0.442     0.494        43\n",
            "           o      0.619     0.634     0.627        41\n",
            "           p      0.700     0.651     0.675        43\n",
            "           q      0.564     0.733     0.638        30\n",
            "           r      0.583     0.583     0.583        36\n",
            "           s      0.886     0.780     0.830        50\n",
            "           t      0.368     0.341     0.354        41\n",
            "           u      0.706     0.600     0.649        40\n",
            "           v      0.471     0.410     0.438        39\n",
            "           w      0.511     0.561     0.535        41\n",
            "           x      0.404     0.487     0.442        39\n",
            "           y      0.438     0.656     0.525        32\n",
            "           z      0.475     0.528     0.500        36\n",
            "\n",
            "    accuracy                          0.563      1000\n",
            "   macro avg      0.570     0.564     0.563      1000\n",
            "weighted avg      0.576     0.563     0.565      1000\n",
            "\n"
          ]
        }
      ]
    },
    {
      "cell_type": "markdown",
      "source": [
        "# Q4. a. Find the confusion matrix using the best classifier"
      ],
      "metadata": {
        "id": "Bo189ctaOYEx"
      }
    },
    {
      "cell_type": "code",
      "source": [
        "from sklearn.metrics import classification_report\n",
        "print(metrics.confusion_matrix(y_val_RF, y_pred_RF))"
      ],
      "metadata": {
        "colab": {
          "base_uri": "https://localhost:8080/"
        },
        "id": "aw-GPSymOfaP",
        "outputId": "7e59f61f-0b5f-4c42-e40d-6b426c297c00"
      },
      "execution_count": null,
      "outputs": [
        {
          "output_type": "stream",
          "name": "stdout",
          "text": [
            "[[40  0  2  0  1  0  1  0  0  0  1  1  0  0  0  0  1  0  0  1  0  0  1  0\n",
            "   0  3]\n",
            " [ 0 26  0  0  0  1  0  3  1  1  0  0  0  0  0  0  0  0  0  0  0  0  1  0\n",
            "   0  0]\n",
            " [ 0  0 23  0  3  0  0  0  0  0  0  1  0  0  0  1  0  4  0  1  0  0  0  2\n",
            "   0  2]\n",
            " [ 1  3  0 18  0  0  0  0  1  1  0  0  0  0  0  0  0  0  0  0  0  0  0  0\n",
            "   0  4]\n",
            " [ 1  0  5  0 29  0  0  0  0  0  0  0  1  1  2  0  1  0  0  0  0  0  1  0\n",
            "   0  2]\n",
            " [ 0  0  1  2  2 21  0  0  1  2  0  4  0  0  0  1  0  0  1  0  0  1  0  1\n",
            "   0  3]\n",
            " [ 1  0  0  0  0  0 20  0  0  3  1  0  1  0  0  2  0  0  1  0  0  0  0  0\n",
            "   0  0]\n",
            " [ 0 14  0  2  0  0  0 12  0  2  0  1  0  0  0  0  1  0  2  0  0  0  1  0\n",
            "   0  0]\n",
            " [ 0  2  0  0  0  1  0  0 19  1  0  3  0  1  1  0  0  0  1  1  0  0  0  0\n",
            "   0  2]\n",
            " [ 1  0  0  0  0  0  0  0  2 39  0  0  0  0  0  0  0  0  0  0  0  0  0  0\n",
            "   0  0]\n",
            " [ 0  0  1  0  2  1  2  0  2  1 18  0  0  0  0  0  0  0  0  0  0  2  0  1\n",
            "   1  1]\n",
            " [ 1  0  0  1  0  0  0  0  0  3  0 21  0  0  0  0  0  0  1  0  0  0  0  2\n",
            "   2  7]\n",
            " [ 1  0  0  1  1  0  0  1  0  1  0  0 24  5  0  1  0  0  0  0  0  0 11  1\n",
            "   0  1]\n",
            " [ 0  1  0  1  0  0  0  1  0  3  0  0  1 27  0  0  3  0  0  0  1  2  0  2\n",
            "   1  0]\n",
            " [ 0  1  0  0  0  1  0  0  0  0  0  1  1  3 29  1  0  0  1  1  0  0  1  1\n",
            "   0  0]\n",
            " [ 0  0  0  0  0  0  0  0  0  1  0  1  0  1  1 35  0  0  0  0  0  0  2  0\n",
            "   2  0]\n",
            " [ 0  0  0  0  1  0  0  0  0  1  0  0  1  0  0  2 23  0  0  0  0  1  0  0\n",
            "   1  0]\n",
            " [ 0  1  3  0  0  3  0  0  1  0  1  5  3  0  0  0  0 18  0  0  0  0  0  0\n",
            "   1  0]\n",
            " [ 0  0  0  0  1  0  0  0  0  2  0  0  0  0  2  0  0  0 41  2  0  0  0  1\n",
            "   0  1]\n",
            " [ 0  0  3  0  1  3  0  1  3  4  1  1  0  1  0  0  0  0  0 19  0  0  0  1\n",
            "   1  2]\n",
            " [ 0  0  0  1  0  0  0  0  0  0  1  1  2  3  4  2  1  0  1  1 22  1  0  0\n",
            "   0  0]\n",
            " [ 0  0  0  1  1  0  0  0  1  4  1  0  0  1  0  0  0  1  1  0  0 22  3  1\n",
            "   2  0]\n",
            " [ 0  0  0  0  0  0  0  0  0  0  0  1  4  2  0  0  0  1  1  0  0  0 31  1\n",
            "   0  0]\n",
            " [ 1  2  0  1  0  2  1  0  1  1  3  3  0  0  0  0  1  0  0  1  0  0  0 17\n",
            "   3  2]\n",
            " [ 0  0  0  0  1  0  0  0  1  2  0  2  0  0  0  1  0  1  0  0  1  0  1  1\n",
            "  20  1]\n",
            " [ 0  0  0  0  1  2  0  0  1  2  1  1  0  0  0  0  0  1  0  1  0  0  0  1\n",
            "   0 25]]\n"
          ]
        }
      ]
    },
    {
      "cell_type": "markdown",
      "source": [
        "# Q4. b. Which characters have low accuracy?"
      ],
      "metadata": {
        "id": "8cUX4FNaOiVX"
      }
    },
    {
      "cell_type": "code",
      "source": [
        "data = [line.split() for line in report.split('\\n')[2:-5]]\n",
        "columns = ['class', 'precision', 'recall', 'f1-score', 'support']\n",
        "df = pd.DataFrame(data, columns=columns)\n",
        "\n",
        "# Calculating accuracy for each class\n",
        "accuracies = [float(line.split()[1]) for line in report.split('\\n')[2:-5]]\n",
        "\n",
        "df['accuracy'] = accuracies\n",
        "\n",
        "print(\"Classification Report_RF :\")\n",
        "sorted_df = df.sort_values(by='accuracy', ascending=False)\n",
        "sorted_df.tail()"
      ],
      "metadata": {
        "colab": {
          "base_uri": "https://localhost:8080/",
          "height": 224
        },
        "id": "B7BVAObxNasc",
        "outputId": "e0f04b90-b1c6-4691-9d8e-3bd486e0a3d0"
      },
      "execution_count": null,
      "outputs": [
        {
          "output_type": "stream",
          "name": "stdout",
          "text": [
            "Classification Report_RF :\n"
          ]
        },
        {
          "output_type": "execute_result",
          "data": {
            "text/plain": [
              "   class precision recall f1-score support  accuracy\n",
              "9      j     0.527  0.929    0.672      42     0.527\n",
              "1      b     0.520  0.788    0.627      33     0.520\n",
              "23     x     0.515  0.436    0.472      39     0.515\n",
              "11     l     0.447  0.553    0.494      38     0.447\n",
              "25     z     0.446  0.694    0.543      36     0.446"
            ],
            "text/html": [
              "\n",
              "  <div id=\"df-aa2bfd2a-5d92-4647-9769-ec70ea956271\">\n",
              "    <div class=\"colab-df-container\">\n",
              "      <div>\n",
              "<style scoped>\n",
              "    .dataframe tbody tr th:only-of-type {\n",
              "        vertical-align: middle;\n",
              "    }\n",
              "\n",
              "    .dataframe tbody tr th {\n",
              "        vertical-align: top;\n",
              "    }\n",
              "\n",
              "    .dataframe thead th {\n",
              "        text-align: right;\n",
              "    }\n",
              "</style>\n",
              "<table border=\"1\" class=\"dataframe\">\n",
              "  <thead>\n",
              "    <tr style=\"text-align: right;\">\n",
              "      <th></th>\n",
              "      <th>class</th>\n",
              "      <th>precision</th>\n",
              "      <th>recall</th>\n",
              "      <th>f1-score</th>\n",
              "      <th>support</th>\n",
              "      <th>accuracy</th>\n",
              "    </tr>\n",
              "  </thead>\n",
              "  <tbody>\n",
              "    <tr>\n",
              "      <th>9</th>\n",
              "      <td>j</td>\n",
              "      <td>0.527</td>\n",
              "      <td>0.929</td>\n",
              "      <td>0.672</td>\n",
              "      <td>42</td>\n",
              "      <td>0.527</td>\n",
              "    </tr>\n",
              "    <tr>\n",
              "      <th>1</th>\n",
              "      <td>b</td>\n",
              "      <td>0.520</td>\n",
              "      <td>0.788</td>\n",
              "      <td>0.627</td>\n",
              "      <td>33</td>\n",
              "      <td>0.520</td>\n",
              "    </tr>\n",
              "    <tr>\n",
              "      <th>23</th>\n",
              "      <td>x</td>\n",
              "      <td>0.515</td>\n",
              "      <td>0.436</td>\n",
              "      <td>0.472</td>\n",
              "      <td>39</td>\n",
              "      <td>0.515</td>\n",
              "    </tr>\n",
              "    <tr>\n",
              "      <th>11</th>\n",
              "      <td>l</td>\n",
              "      <td>0.447</td>\n",
              "      <td>0.553</td>\n",
              "      <td>0.494</td>\n",
              "      <td>38</td>\n",
              "      <td>0.447</td>\n",
              "    </tr>\n",
              "    <tr>\n",
              "      <th>25</th>\n",
              "      <td>z</td>\n",
              "      <td>0.446</td>\n",
              "      <td>0.694</td>\n",
              "      <td>0.543</td>\n",
              "      <td>36</td>\n",
              "      <td>0.446</td>\n",
              "    </tr>\n",
              "  </tbody>\n",
              "</table>\n",
              "</div>\n",
              "      <button class=\"colab-df-convert\" onclick=\"convertToInteractive('df-aa2bfd2a-5d92-4647-9769-ec70ea956271')\"\n",
              "              title=\"Convert this dataframe to an interactive table.\"\n",
              "              style=\"display:none;\">\n",
              "        \n",
              "  <svg xmlns=\"http://www.w3.org/2000/svg\" height=\"24px\"viewBox=\"0 0 24 24\"\n",
              "       width=\"24px\">\n",
              "    <path d=\"M0 0h24v24H0V0z\" fill=\"none\"/>\n",
              "    <path d=\"M18.56 5.44l.94 2.06.94-2.06 2.06-.94-2.06-.94-.94-2.06-.94 2.06-2.06.94zm-11 1L8.5 8.5l.94-2.06 2.06-.94-2.06-.94L8.5 2.5l-.94 2.06-2.06.94zm10 10l.94 2.06.94-2.06 2.06-.94-2.06-.94-.94-2.06-.94 2.06-2.06.94z\"/><path d=\"M17.41 7.96l-1.37-1.37c-.4-.4-.92-.59-1.43-.59-.52 0-1.04.2-1.43.59L10.3 9.45l-7.72 7.72c-.78.78-.78 2.05 0 2.83L4 21.41c.39.39.9.59 1.41.59.51 0 1.02-.2 1.41-.59l7.78-7.78 2.81-2.81c.8-.78.8-2.07 0-2.86zM5.41 20L4 18.59l7.72-7.72 1.47 1.35L5.41 20z\"/>\n",
              "  </svg>\n",
              "      </button>\n",
              "      \n",
              "  <style>\n",
              "    .colab-df-container {\n",
              "      display:flex;\n",
              "      flex-wrap:wrap;\n",
              "      gap: 12px;\n",
              "    }\n",
              "\n",
              "    .colab-df-convert {\n",
              "      background-color: #E8F0FE;\n",
              "      border: none;\n",
              "      border-radius: 50%;\n",
              "      cursor: pointer;\n",
              "      display: none;\n",
              "      fill: #1967D2;\n",
              "      height: 32px;\n",
              "      padding: 0 0 0 0;\n",
              "      width: 32px;\n",
              "    }\n",
              "\n",
              "    .colab-df-convert:hover {\n",
              "      background-color: #E2EBFA;\n",
              "      box-shadow: 0px 1px 2px rgba(60, 64, 67, 0.3), 0px 1px 3px 1px rgba(60, 64, 67, 0.15);\n",
              "      fill: #174EA6;\n",
              "    }\n",
              "\n",
              "    [theme=dark] .colab-df-convert {\n",
              "      background-color: #3B4455;\n",
              "      fill: #D2E3FC;\n",
              "    }\n",
              "\n",
              "    [theme=dark] .colab-df-convert:hover {\n",
              "      background-color: #434B5C;\n",
              "      box-shadow: 0px 1px 3px 1px rgba(0, 0, 0, 0.15);\n",
              "      filter: drop-shadow(0px 1px 2px rgba(0, 0, 0, 0.3));\n",
              "      fill: #FFFFFF;\n",
              "    }\n",
              "  </style>\n",
              "\n",
              "      <script>\n",
              "        const buttonEl =\n",
              "          document.querySelector('#df-aa2bfd2a-5d92-4647-9769-ec70ea956271 button.colab-df-convert');\n",
              "        buttonEl.style.display =\n",
              "          google.colab.kernel.accessAllowed ? 'block' : 'none';\n",
              "\n",
              "        async function convertToInteractive(key) {\n",
              "          const element = document.querySelector('#df-aa2bfd2a-5d92-4647-9769-ec70ea956271');\n",
              "          const dataTable =\n",
              "            await google.colab.kernel.invokeFunction('convertToInteractive',\n",
              "                                                     [key], {});\n",
              "          if (!dataTable) return;\n",
              "\n",
              "          const docLinkHtml = 'Like what you see? Visit the ' +\n",
              "            '<a target=\"_blank\" href=https://colab.research.google.com/notebooks/data_table.ipynb>data table notebook</a>'\n",
              "            + ' to learn more about interactive tables.';\n",
              "          element.innerHTML = '';\n",
              "          dataTable['output_type'] = 'display_data';\n",
              "          await google.colab.output.renderOutput(dataTable, element);\n",
              "          const docLink = document.createElement('div');\n",
              "          docLink.innerHTML = docLinkHtml;\n",
              "          element.appendChild(docLink);\n",
              "        }\n",
              "      </script>\n",
              "    </div>\n",
              "  </div>\n",
              "  "
            ]
          },
          "metadata": {},
          "execution_count": 113
        }
      ]
    },
    {
      "cell_type": "markdown",
      "source": [
        "# Q4. c. What can be the reason for this?"
      ],
      "metadata": {
        "id": "TzRbyFBTOrbK"
      }
    },
    {
      "cell_type": "markdown",
      "source": [
        "Inherent similarities between characters: Some characters like 'f', 't', 'l' have visual similarities or share common features that make it challenging for the model to distinguish between them.\n",
        "\n",
        "Limited feature representation: The features extracted from the images of characters like 'm' may not adequately capture the discriminative information for certain characters."
      ],
      "metadata": {
        "id": "JTlvsm6YOvGA"
      }
    },
    {
      "cell_type": "markdown",
      "source": [
        "# Q5. Try any other techniques/algorithms in your research that could improve the accuracy."
      ],
      "metadata": {
        "id": "UR55Ou61PbGt"
      }
    },
    {
      "cell_type": "code",
      "source": [
        "from sklearn.neighbors import KNeighborsClassifier\n",
        "\n",
        "# Converting the lists to arrays\n",
        "X_KNN = np.array(images)\n",
        "y_KNN = np.array(labels)\n",
        "\n",
        "# Splitting the data into training and validation sets\n",
        "X_train_KNN, X_val_KNN, y_train_KNN, y_val_KNN = train_test_split(X_KNN, y_KNN, test_size = 0.2, random_state = 100)\n",
        "\n",
        "# Training a KNN classifier\n",
        "knn_classifier = KNeighborsClassifier(n_neighbors = 10)\n",
        "knn_classifier.fit(X_train_KNN, y_train_KNN)\n",
        "\n",
        "y_pred_KNN = knn_classifier.predict(X_val_KNN)\n",
        "\n",
        "# Calculating the accuracy\n",
        "accuracy_KNN = accuracy_score(y_val_KNN, y_pred_KNN)\n",
        "print(\"Validation Accuracy_KNN:\", accuracy_KNN)"
      ],
      "metadata": {
        "colab": {
          "base_uri": "https://localhost:8080/"
        },
        "id": "8EkBlFwePeBS",
        "outputId": "075259b2-7f79-4fd4-8f3e-049f1c8d5708"
      },
      "execution_count": null,
      "outputs": [
        {
          "output_type": "stream",
          "name": "stdout",
          "text": [
            "Validation Accuracy_KNN: 0.53\n"
          ]
        }
      ]
    }
  ]
}